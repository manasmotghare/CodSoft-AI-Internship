{
  "cells": [
    {
      "cell_type": "markdown",
      "source": [
        "# ***TASK 2 TIC TAC TOE***"
      ],
      "metadata": {
        "id": "D-VY64gpND6H"
      },
      "id": "D-VY64gpND6H"
    },
    {
      "cell_type": "code",
      "execution_count": null,
      "id": "9a32974f-a3ff-4c5f-b783-faa49da0ad09",
      "metadata": {
        "id": "9a32974f-a3ff-4c5f-b783-faa49da0ad09"
      },
      "outputs": [],
      "source": [
        "import math"
      ]
    },
    {
      "cell_type": "code",
      "execution_count": null,
      "id": "e1885753-4e77-47d6-9b06-289013a217c7",
      "metadata": {
        "id": "e1885753-4e77-47d6-9b06-289013a217c7"
      },
      "outputs": [],
      "source": [
        "# Initialize the Tic-Tac-Toe board\n",
        "def init_board():\n",
        "    return [[' ' for _ in range(3)] for _ in range(3)]\n",
        "\n",
        "# Print the board\n",
        "def print_board(board):\n",
        "    for row in board:\n",
        "        print(\"|\".join(row))\n",
        "        print(\"-\" * 6)\n",
        "\n",
        "# Check for a win\n",
        "def check_win(board, player):\n",
        "    # Check rows\n",
        "    for row in board:\n",
        "        if all(s == player for s in row):\n",
        "            return True\n",
        "    # Check columns\n",
        "    for col in range(3):\n",
        "        if all(board[row][col] == player for row in range(3)):\n",
        "            return True\n",
        "    # Check diagonals\n",
        "    if all(board[i][i] == player for i in range(3)):\n",
        "        return True\n",
        "    if all(board[i][2 - i] == player for i in range(3)):\n",
        "        return True\n",
        "    return False\n",
        "\n",
        "# Check for a draw\n",
        "def check_draw(board):\n",
        "    return all(all(cell != ' ' for cell in row) for row in board)\n",
        "\n",
        "# Make a move\n",
        "def make_move(board, row, col, player):\n",
        "    board[row][col] = player\n",
        "\n",
        "# Minimax algorithm with Alpha-Beta Pruning\n",
        "def minimax(board, depth, is_maximizing, alpha, beta):\n",
        "    if check_win(board, 'O'):\n",
        "        return 1\n",
        "    if check_win(board, 'X'):\n",
        "        return -1\n",
        "    if check_draw(board):\n",
        "        return 0\n",
        "\n",
        "    if is_maximizing:\n",
        "        max_eval = -math.inf\n",
        "        for i in range(3):\n",
        "            for j in range(3):\n",
        "                if board[i][j] == ' ':\n",
        "                    board[i][j] = 'O'\n",
        "                    eval = minimax(board, depth + 1, False, alpha, beta)\n",
        "                    board[i][j] = ' '\n",
        "                    max_eval = max(max_eval, eval)\n",
        "                    alpha = max(alpha, eval)\n",
        "                    if beta <= alpha:\n",
        "                        break\n",
        "        return max_eval\n",
        "    else:\n",
        "        min_eval = math.inf\n",
        "        for i in range(3):\n",
        "            for j in range(3):\n",
        "                if board[i][j] == ' ':\n",
        "                    board[i][j] = 'X'\n",
        "                    eval = minimax(board, depth + 1, True, alpha, beta)\n",
        "                    board[i][j] = ' '\n",
        "                    min_eval = min(min_eval, eval)\n",
        "                    beta = min(beta, eval)\n",
        "                    if beta <= alpha:\n",
        "                        break\n",
        "        return min_eval\n",
        "\n",
        "# Find the best move for the AI\n",
        "def find_best_move(board):\n",
        "    best_move = None\n",
        "    best_value = -math.inf\n",
        "    for i in range(3):\n",
        "        for j in range(3):\n",
        "            if board[i][j] == ' ':\n",
        "                board[i][j] = 'O'\n",
        "                move_value = minimax(board, 0, False, -math.inf, math.inf)\n",
        "                board[i][j] = ' '\n",
        "                if move_value > best_value:\n",
        "                    best_value = move_value\n",
        "                    best_move = (i, j)\n",
        "    return best_move\n",
        "\n",
        "# Main game loop\n",
        "def play_game():\n",
        "    board = init_board()\n",
        "    human_player = 'X'\n",
        "    ai_player = 'O'\n",
        "    current_player = 'X'\n",
        "\n",
        "    while True:\n",
        "        print_board(board)\n",
        "        if current_player == human_player:\n",
        "            row = int(input(\"Enter row (0, 1, 2): \"))\n",
        "            col = int(input(\"Enter col (0, 1, 2): \"))\n",
        "            if board[row][col] == ' ':\n",
        "                make_move(board, row, col, human_player)\n",
        "                if check_win(board, human_player):\n",
        "                    print_board(board)\n",
        "                    print(\"You win!\")\n",
        "                    break\n",
        "                current_player = ai_player\n",
        "        else:\n",
        "            print(\"AI's turn\")\n",
        "            best_move = find_best_move(board)\n",
        "            if best_move:\n",
        "                make_move(board, best_move[0], best_move[1], ai_player)\n",
        "                if check_win(board, ai_player):\n",
        "                    print_board(board)\n",
        "                    print(\"AI wins!\")\n",
        "                    break\n",
        "                current_player = human_player\n",
        "        if check_draw(board):\n",
        "            print_board(board)\n",
        "            print(\"It's a draw!\")\n",
        "            break\n"
      ]
    },
    {
      "cell_type": "code",
      "execution_count": null,
      "id": "b89d47eb-6731-4721-a5f1-5600c418c687",
      "metadata": {
        "id": "b89d47eb-6731-4721-a5f1-5600c418c687",
        "outputId": "69454a3c-4942-4b37-f714-318f332c9474"
      },
      "outputs": [
        {
          "name": "stdout",
          "output_type": "stream",
          "text": [
            " | | \n",
            "------\n",
            " | | \n",
            "------\n",
            " | | \n",
            "------\n"
          ]
        },
        {
          "name": "stdin",
          "output_type": "stream",
          "text": [
            "Enter row (0, 1, 2):  1\n",
            "Enter col (0, 1, 2):  2\n"
          ]
        },
        {
          "name": "stdout",
          "output_type": "stream",
          "text": [
            " | | \n",
            "------\n",
            " | |X\n",
            "------\n",
            " | | \n",
            "------\n",
            "AI's turn\n",
            " | |O\n",
            "------\n",
            " | |X\n",
            "------\n",
            " | | \n",
            "------\n"
          ]
        },
        {
          "name": "stdin",
          "output_type": "stream",
          "text": [
            "Enter row (0, 1, 2):  0\n",
            "Enter col (0, 1, 2):  1\n"
          ]
        },
        {
          "name": "stdout",
          "output_type": "stream",
          "text": [
            " |X|O\n",
            "------\n",
            " | |X\n",
            "------\n",
            " | | \n",
            "------\n",
            "AI's turn\n",
            " |X|O\n",
            "------\n",
            "O| |X\n",
            "------\n",
            " | | \n",
            "------\n"
          ]
        },
        {
          "name": "stdin",
          "output_type": "stream",
          "text": [
            "Enter row (0, 1, 2):  0\n",
            "Enter col (0, 1, 2):  0\n"
          ]
        },
        {
          "name": "stdout",
          "output_type": "stream",
          "text": [
            "X|X|O\n",
            "------\n",
            "O| |X\n",
            "------\n",
            " | | \n",
            "------\n",
            "AI's turn\n",
            "X|X|O\n",
            "------\n",
            "O|O|X\n",
            "------\n",
            " | | \n",
            "------\n"
          ]
        },
        {
          "name": "stdin",
          "output_type": "stream",
          "text": [
            "Enter row (0, 1, 2):  2\n",
            "Enter col (0, 1, 2):  0\n"
          ]
        },
        {
          "name": "stdout",
          "output_type": "stream",
          "text": [
            "X|X|O\n",
            "------\n",
            "O|O|X\n",
            "------\n",
            "X| | \n",
            "------\n",
            "AI's turn\n",
            "X|X|O\n",
            "------\n",
            "O|O|X\n",
            "------\n",
            "X|O| \n",
            "------\n"
          ]
        }
      ],
      "source": [
        "play_game()"
      ]
    },
    {
      "cell_type": "code",
      "execution_count": null,
      "id": "01c2c1f3-16ed-4336-bf5a-eb916007c7fe",
      "metadata": {
        "id": "01c2c1f3-16ed-4336-bf5a-eb916007c7fe"
      },
      "outputs": [],
      "source": []
    }
  ],
  "metadata": {
    "kernelspec": {
      "display_name": "Python 3 (ipykernel)",
      "language": "python",
      "name": "python3"
    },
    "language_info": {
      "codemirror_mode": {
        "name": "ipython",
        "version": 3
      },
      "file_extension": ".py",
      "mimetype": "text/x-python",
      "name": "python",
      "nbconvert_exporter": "python",
      "pygments_lexer": "ipython3",
      "version": "3.11.7"
    },
    "colab": {
      "provenance": []
    }
  },
  "nbformat": 4,
  "nbformat_minor": 5
}