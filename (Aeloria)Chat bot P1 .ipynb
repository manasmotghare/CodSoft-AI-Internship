{
 "cells": [
  {
   "cell_type": "code",
   "execution_count": 7,
   "id": "78d4f752-5a79-49bd-a1a9-abc6437f1f5a",
   "metadata": {},
   "outputs": [
    {
     "name": "stdout",
     "output_type": "stream",
     "text": [
      "Welcome! Ask me something or say hi.\n"
     ]
    },
    {
     "name": "stdin",
     "output_type": "stream",
     "text": [
      "You:  exit\n"
     ]
    },
    {
     "name": "stdout",
     "output_type": "stream",
     "text": [
      "Aeloria: Goodbye! Have a great day.\n"
     ]
    }
   ],
   "source": [
    "# Manas Motghare\n",
    "import re\n",
    "\n",
    "def chatbot(user):\n",
    "    user = user.lower()  # convert input to lowercase for case insensitive matching\n",
    "\n",
    "    # Pattern matching using regular expressions\n",
    "    if re.search(r'\\b(hi|hello|hey)\\b', user): # | - Indicates that it is an or opertor\n",
    "        return \"Hello! How can I assist you today?\"\n",
    "    elif re.search(r'\\b(how are you|how\\'?s it going)\\b', user):\n",
    "        return \"I'm just a bot, but I'm here to help you!\"\n",
    "    elif re.search(r'\\b(weather|forecast)\\b', user):\n",
    "        return \"I'm sorry, I don't have access to weather information.\"\n",
    "   \n",
    "    else:\n",
    "        return \"I'm sorry, I don't understand. Could you please rephrase or ask something else?\"\n",
    "\n",
    "# Main loop to simulate a conversation with the chatbot\n",
    "print(\"Welcome! Ask me something or say hi.\")\n",
    "\n",
    "while True:\n",
    "    user = input(\"You: \")\n",
    "    if user.lower() == 'exit':\n",
    "        print(\"Aeloria: Goodbye! Have a great day.\")\n",
    "        break\n",
    "    response = chatbot(user)\n",
    "    print(\"Aeloria:\", response)\n"
   ]
  },
  {
   "cell_type": "code",
   "execution_count": null,
   "id": "10546cf8-0de2-4af1-a043-27d05c555a86",
   "metadata": {},
   "outputs": [],
   "source": []
  }
 ],
 "metadata": {
  "kernelspec": {
   "display_name": "Python 3 (ipykernel)",
   "language": "python",
   "name": "python3"
  },
  "language_info": {
   "codemirror_mode": {
    "name": "ipython",
    "version": 3
   },
   "file_extension": ".py",
   "mimetype": "text/x-python",
   "name": "python",
   "nbconvert_exporter": "python",
   "pygments_lexer": "ipython3",
   "version": "3.11.7"
  }
 },
 "nbformat": 4,
 "nbformat_minor": 5
}
