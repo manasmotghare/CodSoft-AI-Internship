{
  "nbformat": 4,
  "nbformat_minor": 0,
  "metadata": {
    "colab": {
      "provenance": []
    },
    "kernelspec": {
      "name": "python3",
      "display_name": "Python 3"
    },
    "language_info": {
      "name": "python"
    }
  },
  "cells": [
    {
      "cell_type": "markdown",
      "source": [
        "# ***TASK 4 RECOMMENDATION SYSTEM***"
      ],
      "metadata": {
        "id": "k3-ogVGYK5vG"
      }
    },
    {
      "cell_type": "code",
      "execution_count": 1,
      "metadata": {
        "id": "tutKfbczIi3K"
      },
      "outputs": [],
      "source": [
        "import numpy as np\n",
        "from sklearn.metrics.pairwise import cosine_similarity\n",
        "import pandas as pd"
      ]
    },
    {
      "cell_type": "code",
      "source": [
        "ratings = {\n",
        "    'User1': [5, 3, 4, 4, np.nan],\n",
        "    'User2': [np.nan, 3, 4, np.nan, 5],\n",
        "    'User3': [5, np.nan, np.nan, 4, 4],\n",
        "    'User4': [4, 2, 3, 3, np.nan],\n",
        "    'User5': [np.nan, 3, 4, 5, 5]\n",
        "}"
      ],
      "metadata": {
        "id": "ZXSIAPgFIkXF"
      },
      "execution_count": 2,
      "outputs": []
    },
    {
      "cell_type": "code",
      "source": [
        "# Convert the dictionary to a DataFrame\n",
        "ratings_df = pd.DataFrame(ratings, index=['Movie1', 'Movie2', 'Movie3', 'Movie4', 'Movie5'])"
      ],
      "metadata": {
        "id": "lpuZaxOzInug"
      },
      "execution_count": 3,
      "outputs": []
    },
    {
      "cell_type": "code",
      "source": [
        "# Fill NaN values with 0 for simplicity\n",
        "ratings_df.fillna(0, inplace=True)"
      ],
      "metadata": {
        "id": "boKsUEWxIqJ0"
      },
      "execution_count": 4,
      "outputs": []
    },
    {
      "cell_type": "code",
      "source": [
        "#  Calculate the cosine similarity between users\n",
        "user_similarity = cosine_similarity(ratings_df.T)"
      ],
      "metadata": {
        "id": "aY5i55yFIulz"
      },
      "execution_count": 5,
      "outputs": []
    },
    {
      "cell_type": "code",
      "source": [
        "# Convert simplicity matrix to Df\n",
        "user_similarity_df = pd.DataFrame(user_similarity, index=ratings_df.columns, columns=ratings_df.columns)\n",
        "\n",
        "def recommend_movies(user, ratings_df, user_similarity_df, n_recommendations=2):\n",
        "\n",
        "  unrated_movies = ratings_df.index[ratings_df[user]==0]\n",
        "\n",
        "  predicted_ratings = {}\n",
        "  for movie in unrated_movies:\n",
        "    similar_users = user_similarity_df[user]\n",
        "    weighted_ratings = ratings_df.loc[movie] * similar_users\n",
        "    predicted_rating = weighted_ratings.sum() / similar_users[similar_users > 0].sum()\n",
        "\n",
        "    recommend_movies = sorted(predicted_ratings.items(), key=lambda x: x[1], reverse=True)[:n_recommendations]\n",
        "\n",
        "  return recommend_movies"
      ],
      "metadata": {
        "id": "yKyQNhkeIyDr"
      },
      "execution_count": 20,
      "outputs": []
    },
    {
      "cell_type": "code",
      "source": [
        "recommend_movies = recommend_movies('User1', ratings_df, user_similarity_df)\n",
        "print(f\"Recommended movies for User1: {recommend_movies}\")"
      ],
      "metadata": {
        "colab": {
          "base_uri": "https://localhost:8080/"
        },
        "id": "0uANcYvEJkJF",
        "outputId": "4f126c15-bade-447c-ba70-0baac79a79e6"
      },
      "execution_count": 21,
      "outputs": [
        {
          "output_type": "stream",
          "name": "stdout",
          "text": [
            "Recommended movies for User1: []\n"
          ]
        }
      ]
    },
    {
      "cell_type": "code",
      "source": [],
      "metadata": {
        "id": "sNV0zJV_KwcQ"
      },
      "execution_count": null,
      "outputs": []
    }
  ]
}